{
 "cells": [
  {
   "cell_type": "markdown",
   "metadata": {},
   "source": [
    "# **Building a Neural Network from Scratch**"
   ]
  },
  {
   "cell_type": "markdown",
   "metadata": {},
   "source": [
    "#### **What is a Neural Network?**"
   ]
  },
  {
   "cell_type": "markdown",
   "metadata": {},
   "source": [
    "Artificial Neural Networks are a subset of machine learning that aims to simulate how the human brain works. They take data and essentially train themselves to gain insight out of the data before being able to predict the output for data inputted into the model in the future. \n",
    "\n",
    "Artificial Neural Networks are essentially a relationship between inputs and outputs where each connection has an importance (weight). This is exactly how our brain works when making decisions - when faced with 'data' our brain will prioritise the most important features of that data to make a decision on what that data is or what decisions to make next. \n",
    "\n",
    "Neural Networks can be used for a multitude of things from classification to speech recognition to computer vision to Natural Language Processing. A neural network has an input layer, a hidden layer, and an output layer, and a perceptron is one without a hidden layer. The latter tend to be used for much simpler decision making. \n",
    "\n",
    "A neural network has two steps essentially:\n",
    "\n",
    "* Feedforward propagation which describes a forward movement of information using random weights, these random weights are then improved using backpropagation. \n",
    "* Backpropagation is essentially the calculation of an error between a predicted output and a target which allows the model to update the weight values afterwards. "
   ]
  },
  {
   "cell_type": "markdown",
   "metadata": {},
   "source": [
    "#### **Backpropagation**"
   ]
  },
  {
   "cell_type": "markdown",
   "metadata": {},
   "source": [
    "The weight given for each input is essentially dictating how important that piece of information is to making the final prediction. Therefore ensuring the weights are as correct as possible is vital to a successful model. Backpropagation allows us to start with random weights and then adjust these weights once we can see the first round of predictions. This process of going back and altering the weight is called backpropagation, and we repeat this until the error is minimised.\n",
    "\n",
    "Therefore an Artificial Neural Network can be summarised as a 'cycle' of some sorts. The model takes in an input and randomly assigns weight (we can assign weights manually which will create bias), the output is created, the error is calculated, then the weights are updated and the process will repeat itself. This continues until the error is acceptable and only then will the model be ready for prediction. "
   ]
  },
  {
   "cell_type": "markdown",
   "metadata": {},
   "source": [
    "#### **Derivation of the Backpropagation Algorithm**"
   ]
  },
  {
   "cell_type": "markdown",
   "metadata": {},
   "source": [
    "We need three things to train a neural network using gradient descent. Firstly, we need a dataset with input and output pairs of size N and this is called X. Then, we need a feedforward neural network with parameters. The parameter that is important is the weight between node j in layer k and node i in layer k-1, and the bias for node i in layer k. Thirdly, we need an error function that is able to define the error between the needed y value and the outputted y value from the neural network. "
   ]
  },
  {
   "cell_type": "markdown",
   "metadata": {},
   "source": [
    "If $θ^{t}$ is considered the collective parameters of the neural network for iteration $t$ then gradient descent will update these parameters using:"
   ]
  },
  {
   "cell_type": "markdown",
   "metadata": {},
   "source": [
    "$$\n",
    "\n",
    "θ^{t+1} = θ^{t} - α\\frac{\\partial E(X,θ^{t})}{\\partial θ} \\tag{1}\n",
    "\n",
    "$$\n"
   ]
  },
  {
   "cell_type": "markdown",
   "metadata": {},
   "source": [
    "Where $X$ is the dataset with $x,y$ value pairs, $α$ is the learning rate, and $E(X,θ)$ is the error function with respect to weights $w_{ij}^{k}$ and biases $b_{i}^{k}$. This says that as error tends towards zero the weights between iterations will tend towards being equal meaning we have reached an 'optimum weight'. "
   ]
  },
  {
   "cell_type": "markdown",
   "metadata": {},
   "source": [
    "The below uses mean of square errors which is one of many error functions that can be used depending on need. This tends to be the standard error function as it has always been associated with errors. Here we multiply by $\\frac {1}{2}$ to eliminate the 2 that comes down from the square when differentiating. "
   ]
  },
  {
   "cell_type": "markdown",
   "metadata": {},
   "source": [
    "$$\n",
    "E(X,θ) = \\frac{1}{2N}\\sum_{i=1}^{N}(\\hat{y_{i}} - y_{i})^{2} \\tag{2}\n",
    "$$"
   ]
  },
  {
   "cell_type": "markdown",
   "metadata": {},
   "source": [
    "Where $y_{i}$ is the target value in the input-output pair, and $\\hat{y_{i}}$ is the computed output."
   ]
  },
  {
   "cell_type": "markdown",
   "metadata": {},
   "source": [
    "Hidden layers in a neural network don't have a defined output so errors will be computed using parameters of previous and following layers. Backpropagation aims to simplify the mathematics of gradient descent between layers. Taking the error function above, backpropagation aims to minimise this function with respect to the weights."
   ]
  },
  {
   "cell_type": "markdown",
   "metadata": {},
   "source": [
    "$$\n",
    "\\frac{\\partial E(X,θ)}{\\partial w_{ij}^{k}} = \\frac{1}{N} \\sum_{d=1}^{N} \\frac{\\partial (\\frac{1}{2} (\\hat{y_{d}} - y_{d})^{2})}{\\partial w_{ij}^{k}} \\tag{3}\n",
    "$$"
   ]
  },
  {
   "cell_type": "markdown",
   "metadata": {},
   "source": [
    "If we consider $E_{d}$ = $\\frac{1}{2} (\\hat{y_{d}} - y_{d})^{2}$ then we can write the above as:"
   ]
  },
  {
   "cell_type": "markdown",
   "metadata": {},
   "source": [
    "$$\n",
    "\\frac{\\partial E(X,θ)}{\\partial w_{ij}^{k}} =\\frac{1}{N} \\sum_{d=1}^{N} \\frac{\\partial E_{d}}{\\partial w_{ij}^{k}} \\tag{4}\n",
    "$$"
   ]
  },
  {
   "cell_type": "markdown",
   "metadata": {},
   "source": [
    "Finally, to continue with the derivation of the backpropagation algorithm, we need to calculate the activation:"
   ]
  },
  {
   "cell_type": "markdown",
   "metadata": {},
   "source": [
    "$$\n",
    "a_{i}^{k} = b_{i}^{k} + \\sum_{j=1}^{r_{k-1}} w_{ji}^{k}o_{j}^{k-1} \\tag{5}\n",
    "$$"
   ]
  },
  {
   "cell_type": "markdown",
   "metadata": {},
   "source": [
    "Where $w_{ij}^{k}$ is the weight for node $j$ in layer $l_{k}$ for incoming node $i$, $b_{i}^{k}$ is the bias for node $i$ in layer $l_{k}$, $a_{i}^{k}$ is the product sum plus bias for node $i$ in layer $l_{k}$, $o_{i}^{k}$ is the output for note $i$ in layer $l_{k}$, and $r_{k}$ is the number of nodes in layer $l_{k}$"
   ]
  },
  {
   "cell_type": "markdown",
   "metadata": {},
   "source": [
    "For simplification purposes, we can consider $b_{i}^{k}$ an initial 'weight' for stage $j = 0$:"
   ]
  },
  {
   "cell_type": "markdown",
   "metadata": {},
   "source": [
    "$$\n",
    "a_{i}^{k} = \\sum_{j=0}^{r_{k-1}} w_{ji}^{k}o_{j}^{k-1} \\tag{6}\n",
    "$$"
   ]
  },
  {
   "cell_type": "markdown",
   "metadata": {},
   "source": [
    "Gradient descent updates weights and biases - to simplify mathematics we combined these two in the stage above and considered bias as an initial weight for stage j = 0 leaving us with only one function for weights."
   ]
  },
  {
   "cell_type": "markdown",
   "metadata": {},
   "source": [
    "Now that we have all of these, we can start to work out the error function derivative. We use the chain rule to get the error function's partial derivative."
   ]
  },
  {
   "cell_type": "markdown",
   "metadata": {},
   "source": [
    "$$\n",
    "\\frac {\\partial E}{\\partial w_{ij}^{k}} = \\frac {\\partial E}{\\partial a_{j}^{k}} \\frac {\\partial a_{j}^{k}}{\\partial w_{ij}^{k}} \\tag{7}\n",
    "$$"
   ]
  },
  {
   "cell_type": "markdown",
   "metadata": {},
   "source": [
    "Where $a_{j}^{k}$ is the activation of node j in layer k before its passed to the nonlinear activation function to generate output. Neural Networks tend to use non-learn activation functions as they make it easier to adapt data and differentiate between outcomes. For a two-class classifier, a sigmoid activation function is used as the output is always between 0 and 1 for input (-∞,∞). Other non-linear activation functions can include Tanh which will map values to between -1 and 1. More complex non-linear activation functions include ReLU used in computer vision."
   ]
  },
  {
   "cell_type": "markdown",
   "metadata": {},
   "source": [
    "In the above expression, $\\frac {\\partial E}{\\partial a_{j}^{k}}$ can be called the **error** $δ_{j}^{k}$. The reason for this is where backpropagation gets its name. For a single output neural network, backpropagation defines the value $δ_{1}^{m}$ where $m$ is the final layer. So for this neural network we can express the error function as:"
   ]
  },
  {
   "cell_type": "markdown",
   "metadata": {},
   "source": [
    "$$\n",
    "E = \\frac {1}{2} (\\hat {y} - y)^{2} = \\frac {1}{2} (g_{o}(a_{1}^{m}) - y)^{2} \\tag{8}\n",
    "$$"
   ]
  },
  {
   "cell_type": "markdown",
   "metadata": {},
   "source": [
    "Where $g_{o}(x)$ is the activation function for the output layer."
   ]
  },
  {
   "cell_type": "markdown",
   "metadata": {},
   "source": [
    "Therefore differentiating the above we can get $δ_{1}^{m}$:"
   ]
  },
  {
   "cell_type": "markdown",
   "metadata": {},
   "source": [
    "$$\n",
    "δ_{1}^{m} = (g_{0}(a_{1}^{m}) - y)g_{o}^{'}(a_{a}^{m}) = (\\hat {y} - y)g_{o}^{'}(a_{1}^{m}) \\tag{9}\n",
    "$$"
   ]
  },
  {
   "cell_type": "markdown",
   "metadata": {},
   "source": [
    "In equation $(6)$ and $(7)$ we can express $\\frac {\\partial a_{j}^{k}}{\\partial w_{ij}^{k}}$ as the following:"
   ]
  },
  {
   "cell_type": "markdown",
   "metadata": {},
   "source": [
    "$$\n",
    "\\frac {\\partial a_{j}^{k}}{\\partial w_{ij}^{k}} = \\frac {\\partial}{\\partial w_{ij}^{k}} \\left(\\sum _{l=0}^{r_{k-1}} w_{ij}^{k} o_{l}^{k-1}\\right) = o_{i}^{k-1} \\tag{10}\n",
    "$$"
   ]
  },
  {
   "cell_type": "markdown",
   "metadata": {},
   "source": [
    "Putting $(9)$ and $(10)$ together we get the partial derivative of the error function $E$ with respect to a weight in the final layer $w_{i1}^{m}$:"
   ]
  },
  {
   "cell_type": "markdown",
   "metadata": {},
   "source": [
    "$$\n",
    "\\frac {\\partial E}{\\partial w_{i1}^{m}} = δ_{1}^{m}o_{i}^{m-1} = (\\hat {y} - y)g_{o}^{'}(a_{1}^{m}) o_{i}^{m-1} \\tag{11}\n",
    "$$"
   ]
  },
  {
   "cell_type": "markdown",
   "metadata": {},
   "source": [
    "The above is good for the final layer of a neural network where we have an output, we now need to calculate the partial derivatives of hidden layers. We can do so using the chain rule:"
   ]
  },
  {
   "cell_type": "markdown",
   "metadata": {},
   "source": [
    "$$\n",
    "δ_{j}^{k} = \\frac {\\partial E}{\\partial a_{j}^{k}} = \\sum_{l=1}^{r^{k+1}} \\frac {\\partial E}{\\partial a_{l}^{k+1}} \\frac {\\partial a_{l}^{k+1}}{\\partial a_{j}^{k}} \\tag{12}\n",
    "$$"
   ]
  },
  {
   "cell_type": "markdown",
   "metadata": {},
   "source": [
    "Where $1 \\leq k < m$, and $l$ ranges from 1 to the number of nodes in the next layer $r^{k+1}$, $l$ doesn't start from 0 since the bias for layer 0 does not fluctuate. "
   ]
  },
  {
   "cell_type": "markdown",
   "metadata": {},
   "source": [
    "We can then simplify $(12)$ by substituting for $δ_{l}^{k+1}$:"
   ]
  },
  {
   "cell_type": "markdown",
   "metadata": {},
   "source": [
    "$$\n",
    "δ_{j}^{k} = \\sum_{l=1}^{r^{k+1}} δ_{l}^{k+1} \\frac {\\partial a_{l}^{k+1}}{\\partial a_{j}^{k}} \\tag{13}\n",
    "$$"
   ]
  },
  {
   "cell_type": "markdown",
   "metadata": {},
   "source": [
    "Then reminding ourselves of $(6)$ we can differentiate $a_{l}^{k+1}$ with respect to $a_{j}^{k}$ to get:"
   ]
  },
  {
   "cell_type": "markdown",
   "metadata": {},
   "source": [
    "$$\n",
    "\\frac {\\partial a_{l}^{k+1}}{\\partial a_{j}^{k}} = w_{jl}^{k+1}g^{'}(a_{j}^{k}) \\tag{14}\n",
    "$$"
   ]
  },
  {
   "cell_type": "markdown",
   "metadata": {},
   "source": [
    "So the overall partial derivative of the error dunction $E$ with respect to a weight in the hidden layers $w_{ij}^{k}$ for $1 \\leq k < m$ is:"
   ]
  },
  {
   "cell_type": "markdown",
   "metadata": {},
   "source": [
    "$$\n",
    "\\frac {\\partial E}{\\partial w_{ij}^{k}} = g^{'}(a_{j}^{k}) o_{i}^{k-1} \\sum _{l=1}^{r^{k+1}} δ_{l}^{k+1} w_{jl}^{k+1} \\tag{15}\n",
    "$$"
   ]
  },
  {
   "cell_type": "markdown",
   "metadata": {},
   "source": [
    "The error $δ_{j}^{k}$ at layer $k$ is dependent on the errors $δ_{k}^{k+1}$ at the next layer. Once error in final layer between $\\hat {y} = g_{o}(a_{1}^{m})$ and target $y$ is computed we can work backwards, carrying out a sum of that error multiplied by the weight, and multiplying this by $g^{'}(a_{j}^{k})$ until input layer is reached."
   ]
  },
  {
   "cell_type": "markdown",
   "metadata": {},
   "source": [
    "In every iteration of neural network training, the forward phase will calculate the outputs and relevant activation and outputs for each layer will be remembered for the backwards phase. The backwards phase will use these activations and outputs to calculate the partial derivatives of the error function with respect to weights and gradient descent is used to update these weights. These iterations are repeated until a local minimum is found or another criterion is reached. "
   ]
  },
  {
   "cell_type": "markdown",
   "metadata": {},
   "source": [
    "#### **Sigmoid Activation Function**"
   ]
  },
  {
   "cell_type": "markdown",
   "metadata": {},
   "source": [
    "In a classic neural network, the activation function for hidden nodes is sigmoidal and the activation for the output layer is the identity function. The differential of the sigmoid function is the main factor to why it is so widely used:"
   ]
  },
  {
   "cell_type": "markdown",
   "metadata": {},
   "source": [
    "$$\n",
    "g^{'}(x) = \\frac {\\partial {σ(x)}}{\\partial {x}} = σ(x)(1-σ(x)) \\tag {16}\n",
    "$$"
   ]
  },
  {
   "cell_type": "markdown",
   "metadata": {},
   "source": [
    "Where $σ(x)$ is the sigmoid function."
   ]
  },
  {
   "cell_type": "markdown",
   "metadata": {},
   "source": [
    "Additionally, since the output function uses the identity function, the derivative of this is simply $g_{o}^{'}(x) = 1$. Due to this simplicity, activation values and output values can be forgotten leading to less memory usage by the algorithm. "
   ]
  },
  {
   "cell_type": "markdown",
   "metadata": {},
   "source": [
    "So the error term for the final layer is:"
   ]
  },
  {
   "cell_type": "markdown",
   "metadata": {},
   "source": [
    "$$\n",
    "δ_{1}^{m} = \\hat {y_{d}} - y_{d} \\tag {17}\n",
    "$$"
   ]
  },
  {
   "cell_type": "markdown",
   "metadata": {},
   "source": [
    "and the error term for the hidden layers is:"
   ]
  },
  {
   "cell_type": "markdown",
   "metadata": {},
   "source": [
    "$$\n",
    "δ_{j}^{k} = o_{j}^{k}(1 - o_{j}^{k}) \\sum _{l=1}^{r^{k+1}} w_{jl}^{k+1}δ_{l}^{k+1} \\tag {18}\n",
    "$$"
   ]
  },
  {
   "cell_type": "markdown",
   "metadata": {},
   "source": [
    "#### **Importing Data**"
   ]
  },
  {
   "cell_type": "code",
   "execution_count": 1,
   "metadata": {},
   "outputs": [],
   "source": [
    "# importing libraries, classes, and functions \n",
    "\n",
    "import pandas as pd\n",
    "import numpy as np\n",
    "\n",
    "from Classes.Layer import Layer\n",
    "from Classes.NeuralNetwork import NeuralNetwork\n",
    "from Functions.Sigmoid import sigmoid\n",
    "from Functions.Loss import meanSquareError\n",
    "from Functions.deEnoder import deEncoder\n",
    "from Functions.toList import toList"
   ]
  },
  {
   "cell_type": "code",
   "execution_count": 122,
   "metadata": {},
   "outputs": [
    {
     "data": {
      "text/html": [
       "<div>\n",
       "<style scoped>\n",
       "    .dataframe tbody tr th:only-of-type {\n",
       "        vertical-align: middle;\n",
       "    }\n",
       "\n",
       "    .dataframe tbody tr th {\n",
       "        vertical-align: top;\n",
       "    }\n",
       "\n",
       "    .dataframe thead th {\n",
       "        text-align: right;\n",
       "    }\n",
       "</style>\n",
       "<table border=\"1\" class=\"dataframe\">\n",
       "  <thead>\n",
       "    <tr style=\"text-align: right;\">\n",
       "      <th></th>\n",
       "      <th>label</th>\n",
       "      <th>1x1</th>\n",
       "      <th>1x2</th>\n",
       "      <th>1x3</th>\n",
       "      <th>1x4</th>\n",
       "      <th>1x5</th>\n",
       "      <th>1x6</th>\n",
       "      <th>1x7</th>\n",
       "      <th>1x8</th>\n",
       "      <th>1x9</th>\n",
       "      <th>...</th>\n",
       "      <th>28x19</th>\n",
       "      <th>28x20</th>\n",
       "      <th>28x21</th>\n",
       "      <th>28x22</th>\n",
       "      <th>28x23</th>\n",
       "      <th>28x24</th>\n",
       "      <th>28x25</th>\n",
       "      <th>28x26</th>\n",
       "      <th>28x27</th>\n",
       "      <th>28x28</th>\n",
       "    </tr>\n",
       "  </thead>\n",
       "  <tbody>\n",
       "    <tr>\n",
       "      <th>0</th>\n",
       "      <td>5</td>\n",
       "      <td>0</td>\n",
       "      <td>0</td>\n",
       "      <td>0</td>\n",
       "      <td>0</td>\n",
       "      <td>0</td>\n",
       "      <td>0</td>\n",
       "      <td>0</td>\n",
       "      <td>0</td>\n",
       "      <td>0</td>\n",
       "      <td>...</td>\n",
       "      <td>0</td>\n",
       "      <td>0</td>\n",
       "      <td>0</td>\n",
       "      <td>0</td>\n",
       "      <td>0</td>\n",
       "      <td>0</td>\n",
       "      <td>0</td>\n",
       "      <td>0</td>\n",
       "      <td>0</td>\n",
       "      <td>0</td>\n",
       "    </tr>\n",
       "    <tr>\n",
       "      <th>1</th>\n",
       "      <td>0</td>\n",
       "      <td>0</td>\n",
       "      <td>0</td>\n",
       "      <td>0</td>\n",
       "      <td>0</td>\n",
       "      <td>0</td>\n",
       "      <td>0</td>\n",
       "      <td>0</td>\n",
       "      <td>0</td>\n",
       "      <td>0</td>\n",
       "      <td>...</td>\n",
       "      <td>0</td>\n",
       "      <td>0</td>\n",
       "      <td>0</td>\n",
       "      <td>0</td>\n",
       "      <td>0</td>\n",
       "      <td>0</td>\n",
       "      <td>0</td>\n",
       "      <td>0</td>\n",
       "      <td>0</td>\n",
       "      <td>0</td>\n",
       "    </tr>\n",
       "    <tr>\n",
       "      <th>2</th>\n",
       "      <td>4</td>\n",
       "      <td>0</td>\n",
       "      <td>0</td>\n",
       "      <td>0</td>\n",
       "      <td>0</td>\n",
       "      <td>0</td>\n",
       "      <td>0</td>\n",
       "      <td>0</td>\n",
       "      <td>0</td>\n",
       "      <td>0</td>\n",
       "      <td>...</td>\n",
       "      <td>0</td>\n",
       "      <td>0</td>\n",
       "      <td>0</td>\n",
       "      <td>0</td>\n",
       "      <td>0</td>\n",
       "      <td>0</td>\n",
       "      <td>0</td>\n",
       "      <td>0</td>\n",
       "      <td>0</td>\n",
       "      <td>0</td>\n",
       "    </tr>\n",
       "    <tr>\n",
       "      <th>3</th>\n",
       "      <td>1</td>\n",
       "      <td>0</td>\n",
       "      <td>0</td>\n",
       "      <td>0</td>\n",
       "      <td>0</td>\n",
       "      <td>0</td>\n",
       "      <td>0</td>\n",
       "      <td>0</td>\n",
       "      <td>0</td>\n",
       "      <td>0</td>\n",
       "      <td>...</td>\n",
       "      <td>0</td>\n",
       "      <td>0</td>\n",
       "      <td>0</td>\n",
       "      <td>0</td>\n",
       "      <td>0</td>\n",
       "      <td>0</td>\n",
       "      <td>0</td>\n",
       "      <td>0</td>\n",
       "      <td>0</td>\n",
       "      <td>0</td>\n",
       "    </tr>\n",
       "    <tr>\n",
       "      <th>4</th>\n",
       "      <td>9</td>\n",
       "      <td>0</td>\n",
       "      <td>0</td>\n",
       "      <td>0</td>\n",
       "      <td>0</td>\n",
       "      <td>0</td>\n",
       "      <td>0</td>\n",
       "      <td>0</td>\n",
       "      <td>0</td>\n",
       "      <td>0</td>\n",
       "      <td>...</td>\n",
       "      <td>0</td>\n",
       "      <td>0</td>\n",
       "      <td>0</td>\n",
       "      <td>0</td>\n",
       "      <td>0</td>\n",
       "      <td>0</td>\n",
       "      <td>0</td>\n",
       "      <td>0</td>\n",
       "      <td>0</td>\n",
       "      <td>0</td>\n",
       "    </tr>\n",
       "  </tbody>\n",
       "</table>\n",
       "<p>5 rows × 785 columns</p>\n",
       "</div>"
      ],
      "text/plain": [
       "   label  1x1  1x2  1x3  1x4  1x5  1x6  1x7  1x8  1x9  ...  28x19  28x20  \\\n",
       "0      5    0    0    0    0    0    0    0    0    0  ...      0      0   \n",
       "1      0    0    0    0    0    0    0    0    0    0  ...      0      0   \n",
       "2      4    0    0    0    0    0    0    0    0    0  ...      0      0   \n",
       "3      1    0    0    0    0    0    0    0    0    0  ...      0      0   \n",
       "4      9    0    0    0    0    0    0    0    0    0  ...      0      0   \n",
       "\n",
       "   28x21  28x22  28x23  28x24  28x25  28x26  28x27  28x28  \n",
       "0      0      0      0      0      0      0      0      0  \n",
       "1      0      0      0      0      0      0      0      0  \n",
       "2      0      0      0      0      0      0      0      0  \n",
       "3      0      0      0      0      0      0      0      0  \n",
       "4      0      0      0      0      0      0      0      0  \n",
       "\n",
       "[5 rows x 785 columns]"
      ]
     },
     "execution_count": 122,
     "metadata": {},
     "output_type": "execute_result"
    }
   ],
   "source": [
    "train = pd.read_csv('data/raw/mnist_train.csv')\n",
    "train.head()"
   ]
  },
  {
   "cell_type": "code",
   "execution_count": 123,
   "metadata": {},
   "outputs": [
    {
     "data": {
      "text/html": [
       "<div>\n",
       "<style scoped>\n",
       "    .dataframe tbody tr th:only-of-type {\n",
       "        vertical-align: middle;\n",
       "    }\n",
       "\n",
       "    .dataframe tbody tr th {\n",
       "        vertical-align: top;\n",
       "    }\n",
       "\n",
       "    .dataframe thead th {\n",
       "        text-align: right;\n",
       "    }\n",
       "</style>\n",
       "<table border=\"1\" class=\"dataframe\">\n",
       "  <thead>\n",
       "    <tr style=\"text-align: right;\">\n",
       "      <th></th>\n",
       "      <th>label</th>\n",
       "      <th>1x1</th>\n",
       "      <th>1x2</th>\n",
       "      <th>1x3</th>\n",
       "      <th>1x4</th>\n",
       "      <th>1x5</th>\n",
       "      <th>1x6</th>\n",
       "      <th>1x7</th>\n",
       "      <th>1x8</th>\n",
       "      <th>1x9</th>\n",
       "      <th>...</th>\n",
       "      <th>28x19</th>\n",
       "      <th>28x20</th>\n",
       "      <th>28x21</th>\n",
       "      <th>28x22</th>\n",
       "      <th>28x23</th>\n",
       "      <th>28x24</th>\n",
       "      <th>28x25</th>\n",
       "      <th>28x26</th>\n",
       "      <th>28x27</th>\n",
       "      <th>28x28</th>\n",
       "    </tr>\n",
       "  </thead>\n",
       "  <tbody>\n",
       "    <tr>\n",
       "      <th>0</th>\n",
       "      <td>7</td>\n",
       "      <td>0</td>\n",
       "      <td>0</td>\n",
       "      <td>0</td>\n",
       "      <td>0</td>\n",
       "      <td>0</td>\n",
       "      <td>0</td>\n",
       "      <td>0</td>\n",
       "      <td>0</td>\n",
       "      <td>0</td>\n",
       "      <td>...</td>\n",
       "      <td>0</td>\n",
       "      <td>0</td>\n",
       "      <td>0</td>\n",
       "      <td>0</td>\n",
       "      <td>0</td>\n",
       "      <td>0</td>\n",
       "      <td>0</td>\n",
       "      <td>0</td>\n",
       "      <td>0</td>\n",
       "      <td>0</td>\n",
       "    </tr>\n",
       "    <tr>\n",
       "      <th>1</th>\n",
       "      <td>2</td>\n",
       "      <td>0</td>\n",
       "      <td>0</td>\n",
       "      <td>0</td>\n",
       "      <td>0</td>\n",
       "      <td>0</td>\n",
       "      <td>0</td>\n",
       "      <td>0</td>\n",
       "      <td>0</td>\n",
       "      <td>0</td>\n",
       "      <td>...</td>\n",
       "      <td>0</td>\n",
       "      <td>0</td>\n",
       "      <td>0</td>\n",
       "      <td>0</td>\n",
       "      <td>0</td>\n",
       "      <td>0</td>\n",
       "      <td>0</td>\n",
       "      <td>0</td>\n",
       "      <td>0</td>\n",
       "      <td>0</td>\n",
       "    </tr>\n",
       "    <tr>\n",
       "      <th>2</th>\n",
       "      <td>1</td>\n",
       "      <td>0</td>\n",
       "      <td>0</td>\n",
       "      <td>0</td>\n",
       "      <td>0</td>\n",
       "      <td>0</td>\n",
       "      <td>0</td>\n",
       "      <td>0</td>\n",
       "      <td>0</td>\n",
       "      <td>0</td>\n",
       "      <td>...</td>\n",
       "      <td>0</td>\n",
       "      <td>0</td>\n",
       "      <td>0</td>\n",
       "      <td>0</td>\n",
       "      <td>0</td>\n",
       "      <td>0</td>\n",
       "      <td>0</td>\n",
       "      <td>0</td>\n",
       "      <td>0</td>\n",
       "      <td>0</td>\n",
       "    </tr>\n",
       "    <tr>\n",
       "      <th>3</th>\n",
       "      <td>0</td>\n",
       "      <td>0</td>\n",
       "      <td>0</td>\n",
       "      <td>0</td>\n",
       "      <td>0</td>\n",
       "      <td>0</td>\n",
       "      <td>0</td>\n",
       "      <td>0</td>\n",
       "      <td>0</td>\n",
       "      <td>0</td>\n",
       "      <td>...</td>\n",
       "      <td>0</td>\n",
       "      <td>0</td>\n",
       "      <td>0</td>\n",
       "      <td>0</td>\n",
       "      <td>0</td>\n",
       "      <td>0</td>\n",
       "      <td>0</td>\n",
       "      <td>0</td>\n",
       "      <td>0</td>\n",
       "      <td>0</td>\n",
       "    </tr>\n",
       "    <tr>\n",
       "      <th>4</th>\n",
       "      <td>4</td>\n",
       "      <td>0</td>\n",
       "      <td>0</td>\n",
       "      <td>0</td>\n",
       "      <td>0</td>\n",
       "      <td>0</td>\n",
       "      <td>0</td>\n",
       "      <td>0</td>\n",
       "      <td>0</td>\n",
       "      <td>0</td>\n",
       "      <td>...</td>\n",
       "      <td>0</td>\n",
       "      <td>0</td>\n",
       "      <td>0</td>\n",
       "      <td>0</td>\n",
       "      <td>0</td>\n",
       "      <td>0</td>\n",
       "      <td>0</td>\n",
       "      <td>0</td>\n",
       "      <td>0</td>\n",
       "      <td>0</td>\n",
       "    </tr>\n",
       "  </tbody>\n",
       "</table>\n",
       "<p>5 rows × 785 columns</p>\n",
       "</div>"
      ],
      "text/plain": [
       "   label  1x1  1x2  1x3  1x4  1x5  1x6  1x7  1x8  1x9  ...  28x19  28x20  \\\n",
       "0      7    0    0    0    0    0    0    0    0    0  ...      0      0   \n",
       "1      2    0    0    0    0    0    0    0    0    0  ...      0      0   \n",
       "2      1    0    0    0    0    0    0    0    0    0  ...      0      0   \n",
       "3      0    0    0    0    0    0    0    0    0    0  ...      0      0   \n",
       "4      4    0    0    0    0    0    0    0    0    0  ...      0      0   \n",
       "\n",
       "   28x21  28x22  28x23  28x24  28x25  28x26  28x27  28x28  \n",
       "0      0      0      0      0      0      0      0      0  \n",
       "1      0      0      0      0      0      0      0      0  \n",
       "2      0      0      0      0      0      0      0      0  \n",
       "3      0      0      0      0      0      0      0      0  \n",
       "4      0      0      0      0      0      0      0      0  \n",
       "\n",
       "[5 rows x 785 columns]"
      ]
     },
     "execution_count": 123,
     "metadata": {},
     "output_type": "execute_result"
    }
   ],
   "source": [
    "test = pd.read_csv('data/raw/mnist_test.csv')\n",
    "test.head()"
   ]
  },
  {
   "cell_type": "markdown",
   "metadata": {},
   "source": [
    "#### **Data Processing**"
   ]
  },
  {
   "cell_type": "code",
   "execution_count": 124,
   "metadata": {},
   "outputs": [],
   "source": [
    "X_train = train.drop(columns = ['label'])\n",
    "y_train = train['label']\n",
    "X_test = test.drop(columns = ['label'])\n",
    "y_test = test['label']"
   ]
  },
  {
   "cell_type": "code",
   "execution_count": 69,
   "metadata": {},
   "outputs": [],
   "source": [
    "X_train = X_train.values\n",
    "y_train = y_train.values\n",
    "\n",
    "X_test = X_test.values\n",
    "y_test = y_test.values"
   ]
  },
  {
   "cell_type": "code",
   "execution_count": 70,
   "metadata": {},
   "outputs": [],
   "source": [
    "X_train = X_train.reshape(X_train.shape[0], 1, 28*28)\n",
    "X_test = X_test.reshape(X_test.shape[0], 1, 28*28)"
   ]
  },
  {
   "cell_type": "code",
   "execution_count": 71,
   "metadata": {},
   "outputs": [],
   "source": [
    "X_train = X_train.astype('float32')\n",
    "X_test = X_test.astype('float32')"
   ]
  },
  {
   "cell_type": "code",
   "execution_count": 72,
   "metadata": {},
   "outputs": [],
   "source": [
    "X_train /= 255\n",
    "X_test /= 255"
   ]
  },
  {
   "cell_type": "markdown",
   "metadata": {},
   "source": [
    "Here, we are resizing the data to be 28x28x1 which is ideal for CNNs as it represents the dimensions of small, grayscale images (like the ones in the MNIST dataset). The 1 signifies the colour channel. This allows the network to efficiently learn without excessive computational resource. "
   ]
  },
  {
   "cell_type": "code",
   "execution_count": 73,
   "metadata": {},
   "outputs": [],
   "source": [
    "y_train_enc = []\n",
    "\n",
    "for i in y_train :\n",
    "    if i == 0 :\n",
    "        y_train_enc.append([1,0,0,0,0,0,0,0,0,0])\n",
    "    elif i == 1 :\n",
    "        y_train_enc.append([0,1,0,0,0,0,0,0,0,0])\n",
    "    elif i == 2 :\n",
    "        y_train_enc.append([0,0,1,0,0,0,0,0,0,0])\n",
    "    elif i == 3 :\n",
    "        y_train_enc.append([0,0,0,1,0,0,0,0,0,0])\n",
    "    elif i == 4 :\n",
    "        y_train_enc.append([0,0,0,0,1,0,0,0,0,0])\n",
    "    elif i == 5 :\n",
    "        y_train_enc.append([0,0,0,0,0,1,0,0,0,0])\n",
    "    elif i == 6 :\n",
    "        y_train_enc.append([0,0,0,0,0,0,1,0,0,0])\n",
    "    elif i == 7 :\n",
    "        y_train_enc.append([0,0,0,0,0,0,0,1,0,0])\n",
    "    elif i == 8 :\n",
    "        y_train_enc.append([0,0,0,0,0,0,0,0,1,0])\n",
    "    elif i == 9 :\n",
    "        y_train_enc.append([0,0,0,0,0,0,0,0,0,1])"
   ]
  },
  {
   "cell_type": "code",
   "execution_count": 74,
   "metadata": {},
   "outputs": [],
   "source": [
    "y_test_enc = []\n",
    "\n",
    "for i in y_test :\n",
    "    if i == 0 :\n",
    "        y_test_enc.append([1,0,0,0,0,0,0,0,0,0])\n",
    "    elif i == 1 :\n",
    "        y_test_enc.append([0,1,0,0,0,0,0,0,0,0])\n",
    "    elif i == 2 :\n",
    "        y_test_enc.append([0,0,1,0,0,0,0,0,0,0])\n",
    "    elif i == 3 :\n",
    "        y_test_enc.append([0,0,0,1,0,0,0,0,0,0])\n",
    "    elif i == 4 :\n",
    "        y_test_enc.append([0,0,0,0,1,0,0,0,0,0])\n",
    "    elif i == 5 :\n",
    "        y_test_enc.append([0,0,0,0,0,1,0,0,0,0])\n",
    "    elif i == 6 :\n",
    "        y_test_enc.append([0,0,0,0,0,0,1,0,0,0])\n",
    "    elif i == 7 :\n",
    "        y_test_enc.append([0,0,0,0,0,0,0,1,0,0])\n",
    "    elif i == 8 :\n",
    "        y_test_enc.append([0,0,0,0,0,0,0,0,1,0])\n",
    "    elif i == 9 :\n",
    "        y_test_enc.append([0,0,0,0,0,0,0,0,0,1])\n",
    "\n"
   ]
  },
  {
   "cell_type": "code",
   "execution_count": 75,
   "metadata": {},
   "outputs": [],
   "source": [
    "y_train_enc = np.array(y_train_enc)\n",
    "y_test_enc = np.array(y_test_enc)"
   ]
  },
  {
   "cell_type": "code",
   "execution_count": 77,
   "metadata": {},
   "outputs": [
    {
     "data": {
      "text/plain": [
       "(3, 10)"
      ]
     },
     "execution_count": 77,
     "metadata": {},
     "output_type": "execute_result"
    }
   ],
   "source": [
    "y_test_enc.shape"
   ]
  },
  {
   "cell_type": "markdown",
   "metadata": {},
   "source": [
    "#### **Creating & Training the Neural Network**"
   ]
  },
  {
   "cell_type": "code",
   "execution_count": 12,
   "metadata": {},
   "outputs": [
    {
     "name": "stdout",
     "output_type": "stream",
     "text": [
      "\n",
      "Start of epoch 1\n",
      "Error = 0.013352\n",
      "\n",
      "Start of epoch 2\n",
      "Error = 0.007247\n",
      "\n",
      "Start of epoch 3\n",
      "Error = 0.006846\n",
      "\n",
      "Start of epoch 4\n",
      "Error = 0.006712\n"
     ]
    }
   ],
   "source": [
    "# Create the neural network\n",
    "\n",
    "network = NeuralNetwork()\n",
    "network.add(Layer(28*28, 100, sigmoid))\n",
    "network.add(Layer(100, 50, sigmoid))\n",
    "network.add(Layer(50, 10, sigmoid))\n",
    "\n",
    "# train on 1000 samples\n",
    "network.setLossFunction(meanSquareError)\n",
    "network.fit(X_train, y_train_enc, epochs = 4, learning_rate = 0.1) \n",
    "\n",
    "output = network.predict(X_test)"
   ]
  },
  {
   "cell_type": "markdown",
   "metadata": {},
   "source": [
    "#### **Evaluating Model**"
   ]
  },
  {
   "cell_type": "code",
   "execution_count": 13,
   "metadata": {},
   "outputs": [],
   "source": [
    "output_arr = np.array(output)"
   ]
  },
  {
   "cell_type": "code",
   "execution_count": 14,
   "metadata": {},
   "outputs": [
    {
     "data": {
      "text/plain": [
       "array([[4.59961150e-03, 2.12906789e-05, 2.34937581e-03, 1.14625214e-02,\n",
       "        1.26480760e-05, 1.10306742e-03, 4.12690397e-08, 9.67386187e-01,\n",
       "        9.26611391e-06, 2.04628215e-02]])"
      ]
     },
     "execution_count": 14,
     "metadata": {},
     "output_type": "execute_result"
    }
   ],
   "source": [
    "output_arr[0]"
   ]
  },
  {
   "cell_type": "code",
   "execution_count": 21,
   "metadata": {},
   "outputs": [],
   "source": [
    "# converting output to Python List\n",
    "\n",
    "output_list = toList(output_arr)"
   ]
  },
  {
   "cell_type": "code",
   "execution_count": 23,
   "metadata": {},
   "outputs": [],
   "source": [
    "# converting output into integers - maximum value becomes 1 the rest becomes 0.\n",
    "\n",
    "output_int = []\n",
    "\n",
    "for i in output_list :\n",
    "    x = []\n",
    "    for j in i :\n",
    "        if j == max(i) :\n",
    "            x.append(1)\n",
    "        else :\n",
    "            x.append(0)\n",
    "    output_int.append(x)\n"
   ]
  },
  {
   "cell_type": "code",
   "execution_count": 25,
   "metadata": {},
   "outputs": [],
   "source": [
    "output_denc = deEncoder(output_int)"
   ]
  },
  {
   "cell_type": "code",
   "execution_count": 26,
   "metadata": {},
   "outputs": [
    {
     "data": {
      "text/plain": [
       "[7, 2, 1, 0, 4, 1, 4, 9, 6, 9]"
      ]
     },
     "execution_count": 26,
     "metadata": {},
     "output_type": "execute_result"
    }
   ],
   "source": [
    "output_denc[:10]"
   ]
  },
  {
   "cell_type": "code",
   "execution_count": 28,
   "metadata": {},
   "outputs": [],
   "source": [
    "y_test_list = []\n",
    "    \n",
    "for i in range(len(y_test)) :\n",
    "    y_test_list.append(y_test[i].tolist())"
   ]
  },
  {
   "cell_type": "code",
   "execution_count": 30,
   "metadata": {},
   "outputs": [
    {
     "data": {
      "text/plain": [
       "[7, 2, 1, 0, 4, 1, 4, 9, 5, 9]"
      ]
     },
     "execution_count": 30,
     "metadata": {},
     "output_type": "execute_result"
    }
   ],
   "source": [
    "y_test_list[:10]"
   ]
  },
  {
   "cell_type": "code",
   "execution_count": 32,
   "metadata": {},
   "outputs": [
    {
     "data": {
      "image/png": "[encoded data removed]",
      "text/plain": [
       "<Figure size 640x480 with 2 Axes>"
      ]
     },
     "metadata": {},
     "output_type": "display_data"
    }
   ],
   "source": [
    "from sklearn.metrics import confusion_matrix, ConfusionMatrixDisplay\n",
    "import matplotlib.pyplot as plt\n",
    "\n",
    "cm_display = confusion_matrix(y_test_list, output_denc)\n",
    "\n",
    "cm_display = ConfusionMatrixDisplay(confusion_matrix = cm_display)\n",
    "\n",
    "cm_display.plot()\n",
    "plt.show()\n"
   ]
  },
  {
   "cell_type": "markdown",
   "metadata": {},
   "source": [
    "#### **Improving Model**"
   ]
  },
  {
   "cell_type": "markdown",
   "metadata": {},
   "source": [
    "This model can be improved in many ways and is a basic introduction to building a neural network from scratch. Examples of improvements are the use of a mixture of activation functions that are more tailored for the role this neural network is playing, such as ReLU amongst others. Additionally, I have mainly focused on gradient descent as an optimiser yet there are many more that can be much more effective and efficient. Examples include ADAM which focuses on fast computation time or stochastic gradient descent which focuses on generalising data. Choosing an optimum optimiser will depend on the needs and context in which the neural network is being used. Finally, trialling out different learning rates, batches, epochs, etc. will all allow the optimisation of these values thus improving overall performance of the model."
   ]
  },
  {
   "cell_type": "code",
   "execution_count": 15,
   "metadata": {},
   "outputs": [
    {
     "data": {
      "text/plain": [
       "[array([0.71987971, 0.34616862, 0.61794341, 0.79417191, 0.01748512,\n",
       "        0.39276774, 0.50532707, 0.91228815, 0.09602122, 0.06550904]),\n",
       " array([0.40392435, 0.25841547, 0.68554019, 0.66634392, 0.21864795,\n",
       "        0.79294142, 0.53373755, 0.72275099, 0.46158123, 0.43732653]),\n",
       " array([0.1850549 , 0.84302767, 0.39538696, 0.30739601, 0.14036944,\n",
       "        0.02841307, 0.8158477 , 0.29426932, 0.88676132, 0.63311955]),\n",
       " array([0.65297014, 0.35678027, 0.53819633, 0.27834276, 0.25976509,\n",
       "        0.95987316, 0.66577627, 0.27664965, 0.40025421, 0.01229677]),\n",
       " array([0.20963477, 0.89858704, 0.3850467 , 0.32297585, 0.87542029,\n",
       "        0.53338775, 0.24821379, 0.25008934, 0.8524509 , 0.37946039])]"
      ]
     },
     "execution_count": 15,
     "metadata": {},
     "output_type": "execute_result"
    }
   ],
   "source": [
    "[np.random.rand(10) for _ in range(5)]\n",
    "\n",
    "err += self.loss(y_train[j], output)\n",
    "\n",
    "np.dot([np.random.rand(10) for _ in range(5)].T, err)"
   ]
  },
  {
   "cell_type": "code",
   "execution_count": 98,
   "metadata": {},
   "outputs": [
    {
     "data": {
      "text/plain": [
       "array([0, 1, 2, 8, 4])"
      ]
     },
     "execution_count": 98,
     "metadata": {},
     "output_type": "execute_result"
    }
   ],
   "source": [
    "np.random.randint(0, 10, 5)"
   ]
  },
  {
   "cell_type": "code",
   "execution_count": 103,
   "metadata": {},
   "outputs": [
    {
     "data": {
      "text/plain": [
       "array([[0., 0., 0., ..., 1., 0., 0.],\n",
       "       [0., 0., 1., ..., 0., 0., 0.],\n",
       "       [0., 1., 0., ..., 0., 0., 0.],\n",
       "       ...,\n",
       "       [0., 0., 0., ..., 0., 0., 0.],\n",
       "       [0., 0., 0., ..., 0., 0., 0.],\n",
       "       [0., 0., 0., ..., 0., 0., 0.]], shape=(10000, 10))"
      ]
     },
     "execution_count": 103,
     "metadata": {},
     "output_type": "execute_result"
    }
   ],
   "source": [
    "np.eye(10)[y_test]"
   ]
  },
  {
   "cell_type": "code",
   "execution_count": 127,
   "metadata": {},
   "outputs": [
    {
     "data": {
      "text/plain": [
       "1x1      0\n",
       "1x2      0\n",
       "1x3      0\n",
       "1x4      0\n",
       "1x5      0\n",
       "        ..\n",
       "28x24    0\n",
       "28x25    0\n",
       "28x26    0\n",
       "28x27    0\n",
       "28x28    0\n",
       "Name: 0, Length: 784, dtype: int64"
      ]
     },
     "execution_count": 127,
     "metadata": {},
     "output_type": "execute_result"
    }
   ],
   "source": [
    "X_test.iloc[0]"
   ]
  },
  {
   "cell_type": "code",
   "execution_count": 121,
   "metadata": {},
   "outputs": [],
   "source": [
    "import pickle \n",
    "\n",
    "with open(\"model_store/numpy_neural_network_v1.pkl\", 'rb') as f :\n",
    "    model_pipeline = pickle.load(f)"
   ]
  },
  {
   "cell_type": "code",
   "execution_count": null,
   "metadata": {},
   "outputs": [],
   "source": [
    "pixels_array = np.array().reshape(1, -1)\n",
    "input_df = pd.DataFrame(pixels_array, columns=[f'pixel{i}' for i in range(784)])"
   ]
  },
  {
   "cell_type": "code",
   "execution_count": 139,
   "metadata": {},
   "outputs": [],
   "source": [
    "x = pd.DataFrame(X_test.iloc[0].values.reshape(1, -1), columns=[f'pixel{i}' for i in range(784)])"
   ]
  },
  {
   "cell_type": "code",
   "execution_count": 143,
   "metadata": {},
   "outputs": [],
   "source": [
    "from src.preprocessing import clean_dataset"
   ]
  },
  {
   "cell_type": "code",
   "execution_count": 144,
   "metadata": {},
   "outputs": [],
   "source": [
    "X_train, X_test, y_train, y_test = clean_dataset(train, test, 'label')"
   ]
  },
  {
   "cell_type": "code",
   "execution_count": 149,
   "metadata": {},
   "outputs": [],
   "source": [
    "x = np.random.rand(10, 1, 784).astype('float32')"
   ]
  },
  {
   "cell_type": "code",
   "execution_count": 153,
   "metadata": {},
   "outputs": [
    {
     "data": {
      "text/plain": [
       "array([[7.70054340e-01, 5.68606734e-01, 7.51380026e-01, 4.51024771e-01,\n",
       "        8.99829209e-01, 1.61625907e-01, 2.48226345e-01, 5.31306863e-01,\n",
       "        5.33271492e-01, 7.14194536e-01, 1.89494565e-01, 6.51964843e-02,\n",
       "        1.34529039e-01, 2.59891391e-01, 4.48091030e-01, 6.72646523e-01,\n",
       "        6.99162662e-01, 3.01155269e-01, 3.22644636e-02, 7.34389365e-01,\n",
       "        2.63513415e-03, 8.46070647e-01, 1.75605550e-01, 6.56844676e-01,\n",
       "        3.75484049e-01, 2.39778936e-01, 4.43169534e-01, 5.49388707e-01,\n",
       "        2.14518741e-01, 9.53852892e-01, 4.11311060e-01, 4.62840915e-01,\n",
       "        7.48646617e-01, 8.64977002e-01, 9.43788171e-01, 1.84227213e-01,\n",
       "        1.90876573e-01, 7.44934082e-01, 6.13995552e-01, 1.26920506e-01,\n",
       "        4.91889596e-01, 8.77546251e-01, 4.90067691e-01, 3.53987969e-04,\n",
       "        2.52100170e-01, 4.89782095e-01, 9.34382260e-01, 1.10154547e-01,\n",
       "        2.29381591e-01, 8.92232060e-01, 8.05706739e-01, 9.17677343e-01,\n",
       "        9.67739999e-01, 6.41085088e-01, 3.64396721e-01, 2.46452346e-01,\n",
       "        1.73671782e-01, 7.69874156e-01, 7.69271553e-01, 5.31480908e-01,\n",
       "        9.81013596e-01, 3.42158318e-01, 9.50587034e-01, 5.76429069e-01,\n",
       "        9.98872817e-01, 6.28983855e-01, 6.89812303e-01, 3.57768349e-02,\n",
       "        4.73463267e-01, 7.46208668e-01, 4.80002940e-01, 2.44424954e-01,\n",
       "        1.57827303e-01, 2.75051862e-01, 8.80438328e-01, 6.92049444e-01,\n",
       "        8.35859835e-01, 3.07127237e-01, 4.75596666e-01, 1.49458051e-01,\n",
       "        9.06621575e-01, 6.51327193e-01, 6.01007402e-01, 6.00072265e-01,\n",
       "        6.94929361e-01, 1.68292940e-01, 8.93252790e-01, 3.55845571e-01,\n",
       "        9.65859473e-01, 8.40310991e-01, 9.48953271e-01, 3.96961719e-01,\n",
       "        9.69905138e-01, 2.35619172e-02, 6.71502173e-01, 2.03084901e-01,\n",
       "        8.12811375e-01, 1.28395587e-01, 2.98804134e-01, 6.51871085e-01,\n",
       "        8.12824368e-01, 4.22781855e-02, 4.27519947e-01, 5.38807809e-01,\n",
       "        6.84547007e-01, 1.30790696e-01, 8.46519709e-01, 7.92996228e-01,\n",
       "        8.35213840e-01, 5.76670349e-01, 4.69830096e-01, 3.03515047e-01,\n",
       "        9.70823020e-02, 5.48654437e-01, 9.03829873e-01, 9.43122864e-01,\n",
       "        4.13757116e-01, 2.40670621e-01, 8.09306026e-01, 6.65395677e-01,\n",
       "        5.02429247e-01, 7.92648569e-02, 8.89081657e-02, 1.46504986e-04,\n",
       "        9.30241168e-01, 6.30947769e-01, 5.62776744e-01, 3.32706332e-01,\n",
       "        3.92593741e-02, 2.51419365e-01, 5.13254285e-01, 9.53012109e-01,\n",
       "        2.17406094e-01, 4.00680095e-01, 2.19061542e-02, 1.28605992e-01,\n",
       "        9.85689521e-01, 3.02585512e-01, 8.86857331e-01, 8.68161380e-01,\n",
       "        1.79648504e-01, 2.47454569e-01, 5.82562745e-01, 7.53894508e-01,\n",
       "        8.27272058e-01, 6.37542605e-01, 4.21202064e-01, 2.64092356e-01,\n",
       "        3.82302910e-01, 6.55477941e-01, 9.48873997e-01, 6.93099380e-01,\n",
       "        6.85441136e-01, 3.41525763e-01, 5.37029684e-01, 3.97503585e-01,\n",
       "        4.30658579e-01, 6.55816674e-01, 7.12854207e-01, 6.40947759e-01,\n",
       "        9.56993520e-01, 4.00197327e-01, 3.65137309e-01, 1.87596396e-01,\n",
       "        7.92630196e-01, 7.19344378e-01, 8.08172941e-01, 8.44991922e-01,\n",
       "        8.64975750e-01, 1.45941880e-02, 6.73334122e-01, 1.99294195e-01,\n",
       "        1.13294974e-01, 6.91279531e-01, 6.74960554e-01, 5.54897726e-01,\n",
       "        1.38672143e-01, 8.15236628e-01, 5.65564275e-01, 2.79607177e-01,\n",
       "        4.92601216e-01, 3.73109967e-01, 4.07722503e-01, 5.23964047e-01,\n",
       "        5.16791880e-01, 4.31989700e-01, 5.84084868e-01, 8.24423313e-01,\n",
       "        3.60239923e-01, 2.69588947e-01, 7.62853503e-01, 2.12267160e-01,\n",
       "        1.32362291e-01, 5.84414184e-01, 5.52745402e-01, 1.14354327e-01,\n",
       "        7.43585825e-01, 3.76245379e-01, 6.18753910e-01, 9.50272977e-01,\n",
       "        6.49589300e-01, 1.00133553e-01, 3.38086665e-01, 3.65001559e-01,\n",
       "        3.53044085e-02, 1.31944358e-01, 2.60447115e-01, 7.09612489e-01,\n",
       "        1.91905536e-02, 8.49828184e-01, 4.78067786e-01, 9.16312516e-01,\n",
       "        2.34087422e-01, 6.01122260e-01, 8.88473511e-01, 8.74969959e-01,\n",
       "        4.97358203e-01, 9.27017987e-01, 8.16447675e-01, 8.05831611e-01,\n",
       "        7.95259178e-01, 8.05077612e-01, 6.37927949e-01, 4.99495476e-01,\n",
       "        8.70773554e-01, 7.65099525e-01, 8.05502295e-01, 5.93662202e-01,\n",
       "        7.90832818e-01, 4.24826652e-01, 3.80357862e-01, 8.62406254e-01,\n",
       "        3.67042601e-01, 6.30350173e-01, 9.63989377e-01, 2.72773534e-01,\n",
       "        1.77676260e-01, 3.25089991e-01, 1.95067808e-01, 7.52801061e-01,\n",
       "        7.59386778e-01, 8.67082894e-01, 7.98682153e-01, 1.05718188e-01,\n",
       "        7.58713484e-01, 9.79375422e-01, 1.93990856e-01, 4.05950367e-01,\n",
       "        1.75172642e-01, 9.43788290e-01, 8.44266534e-01, 5.66852808e-01,\n",
       "        7.18195081e-01, 1.57736108e-01, 1.68550283e-01, 2.57977456e-01,\n",
       "        5.02710700e-01, 3.40825111e-01, 5.33274055e-01, 7.14101136e-01,\n",
       "        5.06417334e-01, 6.62808865e-02, 4.71711427e-01, 3.80011052e-01,\n",
       "        2.45463714e-01, 6.56058848e-01, 8.36943567e-01, 9.94811475e-01,\n",
       "        2.33312353e-01, 7.38708854e-01, 2.71127876e-02, 4.36633170e-01,\n",
       "        6.64704144e-01, 5.50326824e-01, 7.73292661e-01, 6.87713385e-01,\n",
       "        3.86624068e-01, 7.42560923e-01, 6.81539357e-01, 3.26477706e-01,\n",
       "        4.43716705e-01, 6.16989076e-01, 6.00625239e-02, 3.18810046e-01,\n",
       "        9.60790277e-01, 7.36633062e-01, 9.46300089e-01, 8.01715851e-01,\n",
       "        1.13864355e-01, 9.90037560e-01, 2.71164149e-01, 4.78219360e-01,\n",
       "        4.97044511e-02, 5.59718609e-01, 8.20326507e-01, 7.38703549e-01,\n",
       "        3.51562828e-01, 1.10971242e-01, 7.72496521e-01, 3.28664482e-02,\n",
       "        9.32468951e-01, 5.95553279e-01, 4.42005284e-02, 3.25824946e-01,\n",
       "        4.01498258e-01, 3.40294838e-02, 4.16009694e-01, 5.63909769e-01,\n",
       "        3.38387966e-01, 8.27441216e-02, 2.13485271e-01, 3.43031466e-01,\n",
       "        3.61452043e-01, 4.29945201e-01, 1.53414086e-02, 7.77825296e-01,\n",
       "        9.65944409e-01, 5.54758571e-02, 6.06203318e-01, 6.90674245e-01,\n",
       "        2.79109806e-01, 7.54646957e-01, 2.49298438e-02, 6.24459565e-01,\n",
       "        5.62122941e-01, 1.51728690e-01, 8.40723217e-01, 6.89739943e-01,\n",
       "        2.45441660e-01, 9.85412300e-01, 9.57103670e-01, 5.90518057e-01,\n",
       "        5.99330783e-01, 8.08692873e-01, 2.49092534e-01, 8.15265298e-01,\n",
       "        7.33188629e-01, 6.22128904e-01, 6.70056939e-01, 5.25849521e-01,\n",
       "        5.94615161e-01, 6.76736757e-02, 2.54784077e-01, 6.15269244e-01,\n",
       "        1.59272432e-01, 2.86061078e-01, 8.44644725e-01, 8.63379419e-01,\n",
       "        2.53035188e-01, 5.18072188e-01, 7.56732762e-01, 1.02819324e-01,\n",
       "        3.32761258e-02, 8.82248860e-04, 2.74997860e-01, 1.89529985e-01,\n",
       "        1.66906729e-01, 5.86912990e-01, 9.88188505e-01, 4.72803861e-01,\n",
       "        3.33252996e-02, 4.85984653e-01, 4.37929392e-01, 4.59474981e-01,\n",
       "        7.26355195e-01, 7.37629905e-02, 1.02323301e-01, 7.42196858e-01,\n",
       "        4.86132145e-01, 7.88368192e-03, 2.54419539e-02, 4.26508859e-02,\n",
       "        1.52010828e-01, 6.93169832e-02, 3.54924411e-01, 6.48970246e-01,\n",
       "        2.46800199e-01, 5.96383177e-02, 6.08343065e-01, 2.15566590e-01,\n",
       "        9.22465980e-01, 7.97275603e-01, 9.15363669e-01, 8.10164392e-01,\n",
       "        7.10647047e-01, 6.35852754e-01, 8.72333467e-01, 6.75373375e-01,\n",
       "        1.64591685e-01, 4.51459348e-01, 7.76876450e-01, 8.12290788e-01,\n",
       "        6.22547209e-01, 1.23060577e-01, 9.77296114e-01, 8.14015627e-01,\n",
       "        6.45703375e-01, 3.09237361e-01, 6.16284430e-01, 9.74281073e-01,\n",
       "        3.61594409e-01, 9.78932798e-01, 1.50268516e-02, 1.42823771e-01,\n",
       "        8.92176270e-01, 3.35167438e-01, 1.38109326e-01, 2.73340821e-01,\n",
       "        3.27479511e-01, 7.14648128e-01, 8.03404212e-01, 1.89314485e-01,\n",
       "        4.77255791e-01, 5.20281643e-02, 1.60653871e-02, 9.05826390e-01,\n",
       "        3.80042404e-01, 8.08325291e-01, 5.07876694e-01, 3.73997982e-03,\n",
       "        2.69375414e-01, 2.91781962e-01, 1.36952773e-01, 7.28071690e-01,\n",
       "        1.67650834e-01, 6.22642934e-01, 5.53523719e-01, 4.30576324e-01,\n",
       "        8.68102256e-03, 9.29356217e-01, 8.00639808e-01, 2.63360828e-01,\n",
       "        8.28638613e-01, 8.10620785e-01, 2.24614650e-01, 1.84042044e-02,\n",
       "        5.30614972e-01, 6.94433928e-01, 3.71782601e-01, 7.90080249e-01,\n",
       "        5.50166726e-01, 5.04302621e-01, 3.85744780e-01, 2.84294158e-01,\n",
       "        6.97787523e-01, 1.51595950e-01, 2.38476291e-01, 7.64041066e-01,\n",
       "        7.82473624e-01, 2.24387571e-01, 6.75919890e-01, 2.54448742e-01,\n",
       "        3.58196557e-01, 5.77236414e-01, 8.13338935e-01, 8.71645585e-02,\n",
       "        9.91619885e-01, 1.03689432e-01, 1.85664862e-01, 6.74709141e-01,\n",
       "        7.23965406e-01, 9.22185361e-01, 9.44682181e-01, 1.40477419e-02,\n",
       "        9.82307673e-01, 2.74881959e-01, 1.86654687e-01, 3.54793668e-01,\n",
       "        7.25996137e-01, 8.72478187e-01, 8.93096864e-01, 2.86098033e-01,\n",
       "        8.94533515e-01, 3.26632440e-01, 3.12928647e-01, 4.86924022e-01,\n",
       "        9.26938713e-01, 3.13000113e-01, 2.98525274e-01, 5.06244481e-01,\n",
       "        6.98463842e-02, 7.60607898e-01, 7.44391203e-01, 1.49421707e-01,\n",
       "        3.38196419e-02, 4.88178402e-01, 4.26112339e-02, 1.70404196e-01,\n",
       "        8.00833225e-01, 3.99615824e-01, 5.56569993e-01, 4.36053425e-01,\n",
       "        3.19932476e-02, 8.44736814e-01, 1.55815840e-01, 8.50798070e-01,\n",
       "        1.41560465e-01, 1.37821570e-01, 3.10915392e-02, 7.04370365e-02,\n",
       "        9.23691928e-01, 1.60184518e-01, 6.63604140e-01, 5.09192646e-01,\n",
       "        8.50049317e-01, 7.06677675e-01, 4.08213973e-01, 8.64420593e-01,\n",
       "        9.49818254e-01, 8.67337659e-02, 3.72168794e-02, 2.47053906e-01,\n",
       "        3.49294811e-01, 7.88258314e-01, 4.19829994e-01, 4.00344163e-01,\n",
       "        1.98513344e-01, 5.97160101e-01, 9.09378231e-01, 9.96402130e-02,\n",
       "        7.72214472e-01, 5.28313458e-01, 8.41235220e-02, 2.41157800e-01,\n",
       "        1.96804538e-01, 7.38749206e-01, 2.99318671e-01, 6.13377452e-01,\n",
       "        1.36716515e-01, 1.27459645e-01, 1.26162708e-01, 9.24679756e-01,\n",
       "        1.53682098e-01, 6.52988911e-01, 2.60200232e-01, 3.50610405e-01,\n",
       "        4.17568743e-01, 4.99361396e-01, 5.41807592e-01, 9.81796026e-01,\n",
       "        4.81526405e-01, 6.37015820e-01, 4.23367292e-01, 7.64070690e-01,\n",
       "        3.02067429e-01, 5.57075679e-01, 5.24071038e-01, 2.51438320e-01,\n",
       "        9.69731629e-01, 2.11038411e-01, 2.83913225e-01, 2.20040292e-01,\n",
       "        7.62977064e-01, 2.84447432e-01, 2.15508342e-02, 4.22332168e-01,\n",
       "        2.48816013e-01, 7.09551871e-02, 9.07342613e-01, 7.29180634e-01,\n",
       "        8.54507327e-01, 8.01034868e-01, 2.40481302e-01, 2.64503360e-01,\n",
       "        3.67891639e-01, 3.42278570e-01, 7.72577703e-01, 6.04099929e-01,\n",
       "        6.41561687e-01, 1.38408452e-01, 8.84410799e-01, 5.36406100e-01,\n",
       "        6.04254961e-01, 6.66035116e-02, 2.79162258e-01, 1.71611235e-01,\n",
       "        1.74581215e-01, 6.99085057e-01, 3.35211784e-01, 2.12059721e-01,\n",
       "        2.44576395e-01, 6.41610265e-01, 4.60173547e-01, 9.74753201e-02,\n",
       "        8.31296682e-01, 4.79141206e-01, 2.95684546e-01, 2.21189365e-01,\n",
       "        7.79455960e-01, 5.27884722e-01, 7.33624220e-01, 5.64625025e-01,\n",
       "        7.80949235e-01, 4.56786335e-01, 9.35425818e-01, 3.09765339e-01,\n",
       "        6.68081164e-01, 9.74388540e-01, 5.92223227e-01, 2.51989067e-01,\n",
       "        1.85503930e-01, 6.57332763e-02, 9.11617696e-01, 9.58583832e-01,\n",
       "        3.32949787e-01, 5.05335212e-01, 5.40552020e-01, 2.03105673e-01,\n",
       "        1.08676516e-01, 9.57561195e-01, 4.18317229e-01, 5.48009694e-01,\n",
       "        9.24666345e-01, 5.67337334e-01, 2.17690691e-02, 3.11178088e-01,\n",
       "        6.27204776e-01, 9.71611142e-01, 9.83363688e-01, 6.35925114e-01,\n",
       "        9.66384351e-01, 1.41439557e-01, 8.00352454e-01, 1.05914041e-01,\n",
       "        2.39356399e-01, 9.22116518e-01, 2.32900321e-01, 3.47189307e-01,\n",
       "        5.45136213e-01, 1.37935191e-01, 8.14782560e-01, 4.82793540e-01,\n",
       "        7.18775809e-01, 1.03398949e-01, 5.49007118e-01, 2.89459169e-01,\n",
       "        8.54032874e-01, 6.74170613e-01, 3.50934952e-01, 5.38934171e-01,\n",
       "        5.77743232e-01, 5.75159431e-01, 9.73725677e-01, 3.54018086e-03,\n",
       "        8.12919438e-01, 3.50262851e-01, 4.56190586e-01, 4.70142066e-01,\n",
       "        5.54310024e-01, 6.58887088e-01, 2.42869899e-01, 7.22620964e-01,\n",
       "        6.83714775e-03, 1.09969907e-01, 9.11842883e-01, 5.12849748e-01,\n",
       "        2.97726672e-02, 1.03696704e-01, 6.34213567e-01, 7.29570568e-01,\n",
       "        5.29418766e-01, 1.55132174e-01, 8.69094372e-01, 5.80736518e-01,\n",
       "        5.18966854e-01, 2.58871108e-01, 2.42886990e-01, 8.24414253e-01,\n",
       "        8.96677315e-01, 6.49268925e-01, 1.79787323e-01, 6.07022405e-01,\n",
       "        3.75894606e-01, 3.04698229e-01, 9.39987838e-01, 6.19188070e-01,\n",
       "        9.20453727e-01, 4.36605781e-01, 8.57445240e-01, 7.87114918e-01,\n",
       "        6.34934425e-01, 2.03409836e-01, 7.88700521e-01, 9.49584246e-01,\n",
       "        7.03897774e-01, 8.80896866e-01, 7.82628536e-01, 8.46280336e-01,\n",
       "        5.17060935e-01, 7.38057911e-01, 4.27750230e-01, 3.45874965e-01,\n",
       "        9.40521508e-02, 8.25747550e-01, 6.94333851e-01, 2.01001614e-01,\n",
       "        7.21969724e-01, 6.61235392e-01, 8.37311864e-01, 8.84022892e-01,\n",
       "        4.98693168e-01, 4.92461652e-01, 6.98872805e-01, 9.22135830e-01,\n",
       "        4.77260858e-01, 9.50613558e-01, 4.00970615e-02, 2.98077434e-01,\n",
       "        5.47273755e-01, 9.41863000e-01, 7.07657039e-01, 3.63071680e-01,\n",
       "        7.88544297e-01, 4.49725986e-01, 1.34633571e-01, 1.78497300e-01,\n",
       "        4.44854319e-01, 8.71941447e-02, 6.46000683e-01, 4.69565451e-01,\n",
       "        9.24111009e-01, 6.59473300e-01, 5.38570106e-01, 8.28672126e-02,\n",
       "        6.10664845e-01, 6.03891015e-01, 2.23093227e-01, 6.81172967e-01,\n",
       "        1.58669502e-01, 1.13818578e-01, 3.79706800e-01, 8.59266639e-01,\n",
       "        7.10635006e-01, 3.59838247e-01, 9.58976030e-01, 9.39492043e-03,\n",
       "        7.35567451e-01, 5.75728774e-01, 5.08081615e-01, 9.72022891e-01,\n",
       "        1.53902009e-01, 9.08502877e-01, 2.56888360e-01, 1.42975196e-01,\n",
       "        3.04067910e-01, 9.78072822e-01, 5.41222692e-01, 4.66711700e-01,\n",
       "        2.39205286e-01, 8.71401548e-01, 7.40046740e-01, 6.49612486e-01,\n",
       "        4.62053239e-01, 2.34078810e-01, 8.80553663e-01, 1.17003977e-01,\n",
       "        7.75202870e-01, 4.12529320e-01, 8.00190121e-02, 8.79052460e-01,\n",
       "        4.47151437e-02, 6.10127151e-01, 6.97563887e-01, 9.13539588e-01,\n",
       "        9.59375143e-01, 1.40823260e-01, 9.80571657e-02, 2.46266499e-01,\n",
       "        4.64519024e-01, 5.51201344e-01, 8.10704410e-01, 7.16091931e-01,\n",
       "        8.19779158e-01, 5.54273546e-01, 7.84630656e-01, 5.18703818e-01,\n",
       "        1.94043815e-01, 2.48214453e-01, 8.27542186e-01, 4.20756429e-01,\n",
       "        6.91675991e-02, 4.06138718e-01, 6.07918799e-01, 7.95115352e-01]],\n",
       "      dtype=float32)"
      ]
     },
     "execution_count": 153,
     "metadata": {},
     "output_type": "execute_result"
    }
   ],
   "source": [
    "x[0]"
   ]
  },
  {
   "cell_type": "code",
   "execution_count": 192,
   "metadata": {},
   "outputs": [],
   "source": [
    "pixels_array = np.random.rand(1, 1, 784).astype('float32')"
   ]
  },
  {
   "cell_type": "code",
   "execution_count": 193,
   "metadata": {},
   "outputs": [
    {
     "data": {
      "text/plain": [
       "array([[[9.17358279e-01, 3.32147598e-01, 1.22133814e-01, 5.33660233e-01,\n",
       "         2.14378983e-01, 6.99338496e-01, 4.59266126e-01, 2.00356886e-01,\n",
       "         2.92323589e-01, 5.94736636e-01, 4.44466501e-01, 5.82238555e-01,\n",
       "         1.55915320e-01, 8.73861551e-01, 8.12105060e-01, 8.47120404e-01,\n",
       "         2.87210345e-01, 7.14215696e-01, 4.81027454e-01, 6.46546245e-01,\n",
       "         7.24235415e-01, 9.28588688e-01, 8.66887629e-01, 1.71702534e-01,\n",
       "         2.52997667e-01, 4.39729601e-01, 4.79720414e-01, 8.79707932e-01,\n",
       "         7.06611753e-01, 9.79831398e-01, 3.19629088e-02, 9.84401926e-02,\n",
       "         6.26194894e-01, 6.58239648e-02, 5.18859446e-01, 5.17646074e-01,\n",
       "         8.04512382e-01, 5.15934408e-01, 7.72130132e-01, 8.36900771e-01,\n",
       "         6.21701300e-01, 8.77610505e-01, 2.69896597e-01, 9.12487090e-01,\n",
       "         4.02652055e-01, 1.08562717e-02, 6.30373895e-01, 4.93418872e-02,\n",
       "         8.74636114e-01, 2.83178091e-01, 6.01159215e-01, 5.47912307e-02,\n",
       "         7.86532402e-01, 3.74852270e-01, 2.22535923e-01, 6.87589228e-01,\n",
       "         4.93375212e-01, 6.14180386e-01, 1.94467738e-01, 1.66717824e-02,\n",
       "         1.22364290e-01, 1.27724975e-01, 2.12603539e-01, 2.69828111e-01,\n",
       "         4.99593973e-01, 7.80171335e-01, 7.59658515e-01, 4.47920650e-01,\n",
       "         9.17580605e-01, 2.85201102e-01, 2.66479582e-01, 2.64156256e-02,\n",
       "         4.31309104e-01, 5.86100876e-01, 9.76346254e-01, 5.72452188e-01,\n",
       "         5.25002301e-01, 4.53217834e-01, 9.42896962e-01, 7.42978156e-01,\n",
       "         9.57322538e-01, 7.59905055e-02, 5.39896004e-02, 9.53578115e-01,\n",
       "         7.36603498e-01, 5.89366436e-01, 2.14983165e-01, 4.03798431e-01,\n",
       "         2.11590543e-01, 6.10952318e-01, 3.68750423e-01, 3.20622712e-01,\n",
       "         5.19788451e-02, 8.12869191e-01, 5.10095119e-01, 7.30106294e-01,\n",
       "         9.14292753e-01, 6.47456408e-01, 5.99402487e-01, 3.28140080e-01,\n",
       "         6.51997089e-01, 9.15988028e-01, 3.63115579e-01, 2.36463711e-01,\n",
       "         5.40629268e-01, 4.91754532e-01, 1.85379982e-02, 7.77947247e-01,\n",
       "         1.29718542e-01, 3.72052640e-01, 5.09026945e-01, 5.36604643e-01,\n",
       "         5.31776965e-01, 7.41320491e-01, 5.91064453e-01, 3.01616788e-01,\n",
       "         8.49415958e-02, 7.99656808e-01, 5.37764728e-01, 2.42005691e-01,\n",
       "         3.09541434e-01, 4.27973986e-01, 9.81847048e-01, 3.57774049e-01,\n",
       "         8.24608982e-01, 6.55079424e-01, 3.79683316e-01, 6.88916385e-01,\n",
       "         3.79624337e-01, 1.50128841e-01, 4.86858815e-01, 3.51727009e-01,\n",
       "         1.62630945e-01, 6.68819726e-01, 4.23249006e-01, 1.51345059e-02,\n",
       "         8.56782854e-01, 7.00784147e-01, 7.75771379e-01, 3.01016003e-01,\n",
       "         7.10775077e-01, 4.65927333e-01, 8.79125714e-01, 5.45292377e-01,\n",
       "         6.77835196e-02, 2.68367052e-01, 3.55749160e-01, 9.73250985e-01,\n",
       "         2.88657963e-01, 7.30414867e-01, 7.39475727e-01, 4.03772444e-01,\n",
       "         8.78619194e-01, 2.60638744e-01, 8.14441621e-01, 3.65342587e-01,\n",
       "         1.14409417e-01, 1.96514860e-01, 1.55618444e-01, 6.56711608e-02,\n",
       "         5.67321897e-01, 6.67249620e-01, 3.69501971e-02, 6.82284713e-01,\n",
       "         5.18656373e-01, 8.29284042e-02, 9.60223675e-01, 1.98939070e-01,\n",
       "         9.40114081e-01, 4.11815017e-01, 2.21325550e-02, 3.56635809e-01,\n",
       "         7.76836798e-02, 8.69839415e-02, 2.12903246e-01, 9.10490036e-01,\n",
       "         3.82403612e-01, 8.19002748e-01, 5.05666673e-01, 9.56235647e-01,\n",
       "         2.67082416e-02, 6.31833434e-01, 6.35999382e-01, 9.09232855e-01,\n",
       "         9.61891338e-02, 7.46282578e-01, 2.78457075e-01, 9.36483860e-01,\n",
       "         7.16613948e-01, 6.63837790e-01, 3.41335088e-02, 3.18368882e-01,\n",
       "         3.43902595e-02, 2.15036988e-01, 2.92167872e-01, 7.89882958e-01,\n",
       "         9.72851694e-01, 8.25909853e-01, 4.70072716e-01, 4.86498266e-01,\n",
       "         8.84955525e-01, 6.08664870e-01, 7.62133896e-01, 7.05867648e-01,\n",
       "         1.13197669e-01, 7.80256629e-01, 6.80921972e-01, 4.97202128e-01,\n",
       "         9.83113408e-01, 8.94994676e-01, 4.11277175e-01, 2.92681664e-01,\n",
       "         2.42211148e-02, 4.09129187e-02, 7.32073262e-02, 9.09765422e-01,\n",
       "         1.63897499e-02, 4.42548126e-01, 5.53685963e-01, 4.59597230e-01,\n",
       "         9.49539840e-01, 1.03701770e-01, 6.87536821e-02, 8.65674078e-01,\n",
       "         8.96627307e-01, 9.02319029e-02, 6.30958006e-02, 7.82694757e-01,\n",
       "         7.31017709e-01, 1.68481190e-02, 3.98519307e-01, 2.64011472e-01,\n",
       "         2.00479969e-01, 9.98554349e-01, 3.11117801e-05, 7.40979612e-02,\n",
       "         5.56524515e-01, 7.73930013e-01, 5.23455083e-01, 4.80261147e-01,\n",
       "         2.38624051e-01, 6.59855455e-02, 3.42686236e-01, 7.02875376e-01,\n",
       "         4.57459748e-01, 7.32901096e-01, 5.26161194e-01, 2.12354302e-01,\n",
       "         2.21513614e-01, 9.42821145e-01, 5.83966434e-01, 8.90776157e-01,\n",
       "         5.20754158e-01, 2.20483765e-01, 7.20943391e-01, 4.16689247e-01,\n",
       "         8.43711436e-01, 5.00085711e-01, 9.87146795e-01, 4.36192662e-01,\n",
       "         5.77178717e-01, 1.02599986e-01, 9.91572201e-01, 5.16785502e-01,\n",
       "         3.46288295e-03, 2.69620776e-01, 6.02099240e-01, 3.81701201e-01,\n",
       "         4.59992081e-01, 3.84942085e-01, 5.67036271e-01, 9.23772752e-01,\n",
       "         1.11228235e-01, 7.50778317e-01, 5.23553669e-01, 2.55147573e-02,\n",
       "         8.32298756e-01, 7.97813773e-01, 7.19775677e-01, 6.09009862e-01,\n",
       "         5.73614538e-01, 6.45931810e-02, 7.75799621e-03, 1.93741947e-01,\n",
       "         2.86430568e-01, 3.36088896e-01, 6.86911702e-01, 1.67148456e-01,\n",
       "         6.07549846e-01, 2.10142857e-03, 4.60775673e-01, 9.66735482e-01,\n",
       "         5.01084566e-01, 8.09575975e-01, 8.07575703e-01, 1.24997012e-01,\n",
       "         7.49314249e-01, 3.41646045e-01, 2.75822543e-02, 9.73819137e-01,\n",
       "         7.36062884e-01, 2.26588219e-01, 4.08869952e-01, 4.01149631e-01,\n",
       "         9.27740455e-01, 5.56420982e-01, 7.23307282e-02, 1.63560286e-01,\n",
       "         5.87682724e-01, 7.26212382e-01, 3.54867429e-01, 4.60901499e-01,\n",
       "         1.13660142e-01, 1.03660233e-01, 7.95530975e-01, 7.72737145e-01,\n",
       "         8.08422446e-01, 9.49125350e-01, 3.92582834e-01, 5.83967030e-01,\n",
       "         3.19011003e-01, 8.05332124e-01, 2.57556707e-01, 7.53983617e-01,\n",
       "         7.14523077e-01, 7.31685087e-02, 2.60469168e-01, 9.41492498e-01,\n",
       "         1.66833490e-01, 5.08961558e-01, 1.45432040e-01, 3.03312913e-02,\n",
       "         8.21775258e-01, 9.41003919e-01, 1.52138114e-01, 8.04598808e-01,\n",
       "         7.71033883e-01, 1.26254126e-01, 3.82440001e-01, 1.24338485e-01,\n",
       "         6.35933936e-01, 8.31102490e-01, 5.34007370e-01, 2.18156233e-01,\n",
       "         8.54624152e-01, 5.91389954e-01, 3.42222929e-01, 1.63227797e-01,\n",
       "         6.03014052e-01, 2.43365571e-01, 3.71286839e-01, 6.88415229e-01,\n",
       "         5.51902652e-01, 9.03770268e-01, 9.40005481e-01, 7.41860151e-01,\n",
       "         8.22735310e-01, 9.73272800e-01, 2.12962493e-01, 4.38888133e-01,\n",
       "         9.66114581e-01, 8.22330356e-01, 3.72159064e-01, 7.55119860e-01,\n",
       "         4.46811244e-02, 7.77104676e-01, 3.08010191e-01, 8.19062531e-01,\n",
       "         8.51213932e-01, 3.08273137e-01, 6.86520100e-01, 8.59906137e-01,\n",
       "         9.28650439e-01, 3.83027762e-01, 1.13085739e-01, 9.11663175e-01,\n",
       "         5.91820121e-01, 5.89976847e-01, 4.96166855e-01, 6.08773589e-01,\n",
       "         3.69694442e-01, 8.54306877e-01, 6.87999487e-01, 9.29060161e-01,\n",
       "         9.25743103e-01, 8.57760966e-01, 8.74702752e-01, 6.73183426e-02,\n",
       "         9.14159775e-01, 7.29631066e-01, 1.41392484e-01, 4.13537621e-01,\n",
       "         8.71792957e-02, 3.69858712e-01, 8.52484941e-01, 2.10138977e-01,\n",
       "         2.04957157e-01, 6.98976398e-01, 5.64487278e-01, 3.47762018e-01,\n",
       "         1.28405824e-01, 2.73053616e-01, 7.18066752e-01, 9.36495543e-01,\n",
       "         5.73865235e-01, 3.52904946e-01, 8.08483183e-01, 9.07022297e-01,\n",
       "         1.37572527e-01, 5.82492173e-01, 7.84846783e-01, 8.54896784e-01,\n",
       "         8.55630279e-01, 7.47021496e-01, 6.87882423e-01, 7.11471975e-01,\n",
       "         1.14563607e-01, 9.11069274e-01, 7.29352474e-01, 1.45063713e-01,\n",
       "         2.65476167e-01, 8.06609154e-01, 5.30854948e-02, 9.72745180e-01,\n",
       "         9.69424367e-01, 3.49087834e-01, 8.34228456e-01, 8.99254322e-01,\n",
       "         5.12963176e-01, 4.02853817e-01, 4.57959443e-01, 3.46110433e-01,\n",
       "         9.98988867e-01, 5.78621626e-01, 8.11622292e-02, 3.20584148e-01,\n",
       "         6.01925671e-01, 7.26747274e-01, 4.82982308e-01, 3.25864822e-01,\n",
       "         4.13751334e-01, 9.35308516e-01, 1.99717268e-01, 2.07221195e-01,\n",
       "         3.86684090e-01, 4.74485487e-01, 9.67817008e-01, 6.59302294e-01,\n",
       "         8.58659685e-01, 1.06839806e-01, 1.58543915e-01, 2.47079179e-01,\n",
       "         4.31956708e-01, 1.08027846e-01, 1.40089139e-01, 3.00809443e-01,\n",
       "         7.39226401e-01, 5.85974157e-01, 4.47175831e-01, 6.05183661e-01,\n",
       "         3.70693207e-01, 7.12664574e-02, 9.77133140e-02, 8.19596350e-01,\n",
       "         3.28966789e-02, 9.18775439e-01, 6.20132864e-01, 7.15496838e-01,\n",
       "         5.58826506e-01, 4.51176792e-01, 1.14255078e-01, 3.08741868e-01,\n",
       "         7.93658853e-01, 8.42617571e-01, 9.36516404e-01, 5.71397424e-01,\n",
       "         5.80364704e-01, 6.22837842e-01, 5.54902889e-02, 9.37831640e-01,\n",
       "         3.85424405e-01, 7.97235608e-01, 2.64013767e-01, 6.24783516e-01,\n",
       "         9.26188052e-01, 7.66746104e-01, 3.98642093e-01, 6.02769673e-01,\n",
       "         3.68124276e-01, 6.51276946e-01, 7.40992248e-01, 1.87010974e-01,\n",
       "         5.99270880e-01, 7.73993194e-01, 6.53702095e-02, 7.84916282e-01,\n",
       "         3.19587588e-02, 7.35921502e-01, 6.61386549e-01, 9.97374892e-01,\n",
       "         2.82374948e-01, 2.33350232e-01, 9.79733586e-01, 3.15149397e-01,\n",
       "         4.05389875e-01, 1.02898933e-01, 2.00569123e-01, 1.88838676e-01,\n",
       "         7.21772254e-01, 2.96332300e-01, 3.31267297e-01, 1.09936766e-01,\n",
       "         7.39325762e-01, 4.38649118e-01, 7.25931108e-01, 3.30568641e-01,\n",
       "         5.45261264e-01, 2.19778746e-01, 3.76825452e-01, 5.26958585e-01,\n",
       "         1.63852453e-01, 3.42026651e-01, 3.80727738e-01, 7.81774461e-01,\n",
       "         8.87627900e-01, 3.41014415e-01, 2.00536028e-01, 7.71694243e-01,\n",
       "         6.60282746e-02, 2.10864604e-01, 1.69680223e-01, 3.47165525e-01,\n",
       "         5.54189146e-01, 1.76389486e-01, 3.00861865e-01, 1.16421729e-01,\n",
       "         8.97899747e-01, 8.34205270e-01, 7.30746269e-01, 6.58545852e-01,\n",
       "         9.71392393e-01, 4.31811303e-01, 4.54583615e-01, 4.06906158e-01,\n",
       "         7.70675004e-01, 8.24344933e-01, 9.85529959e-01, 3.42987359e-01,\n",
       "         1.25752091e-01, 8.10611308e-01, 6.80420399e-01, 3.94902915e-01,\n",
       "         4.99768108e-01, 7.61850476e-01, 3.67357582e-01, 7.84763135e-03,\n",
       "         1.67275235e-01, 5.59699237e-01, 9.69741791e-02, 8.47829461e-01,\n",
       "         4.22989488e-01, 2.67352849e-01, 2.90575534e-01, 3.67363393e-01,\n",
       "         5.42231441e-01, 6.96689785e-01, 8.69508207e-01, 3.37614179e-01,\n",
       "         6.51442409e-01, 7.47522354e-01, 5.63863635e-01, 7.69782066e-01,\n",
       "         7.66038239e-01, 1.65991634e-01, 7.90893137e-01, 9.16789249e-02,\n",
       "         3.25620115e-01, 2.48381019e-01, 5.51204920e-01, 9.62606311e-01,\n",
       "         6.68510914e-01, 1.47835851e-01, 7.70530999e-01, 2.89052963e-01,\n",
       "         2.53551960e-01, 8.12060773e-01, 8.27402174e-01, 4.84239519e-01,\n",
       "         8.33080411e-01, 5.87821901e-01, 7.21124828e-01, 2.01591998e-01,\n",
       "         8.11614037e-01, 6.69616401e-01, 1.80271521e-01, 5.46734214e-01,\n",
       "         3.60717893e-01, 8.06598842e-01, 4.41734493e-01, 7.90469110e-01,\n",
       "         2.49689460e-01, 6.21588826e-01, 7.72105455e-01, 8.19408447e-02,\n",
       "         8.51186275e-01, 9.10753071e-01, 8.04683864e-01, 6.74847484e-01,\n",
       "         6.45052314e-01, 4.00469661e-01, 4.10841674e-01, 8.99424911e-01,\n",
       "         7.89510727e-01, 6.52494907e-01, 9.85829353e-01, 8.25836301e-01,\n",
       "         7.35644162e-01, 1.98945567e-01, 4.16088328e-02, 7.34695494e-01,\n",
       "         6.24131620e-01, 7.70374119e-01, 4.98469859e-01, 9.63003039e-01,\n",
       "         5.93913376e-01, 2.17525840e-01, 5.72265565e-01, 4.76532161e-01,\n",
       "         3.06539200e-02, 8.81076097e-01, 1.20123640e-01, 1.01827510e-01,\n",
       "         4.42082494e-01, 4.46194887e-01, 7.13869631e-01, 3.02783959e-03,\n",
       "         6.61788881e-02, 6.51647866e-01, 4.81235802e-01, 6.49302304e-02,\n",
       "         8.17164600e-01, 5.94042420e-01, 1.41793780e-03, 3.76817197e-01,\n",
       "         3.34427983e-01, 8.00060630e-01, 5.85333025e-03, 7.34497964e-01,\n",
       "         7.50060007e-02, 1.78798474e-03, 9.13023949e-01, 6.59935892e-01,\n",
       "         9.01675403e-01, 4.28084023e-02, 3.99840444e-01, 2.88901567e-01,\n",
       "         3.96203607e-01, 6.29354000e-01, 9.97505248e-01, 9.55120146e-01,\n",
       "         8.50658864e-02, 2.71560699e-01, 9.15190756e-01, 6.40200794e-01,\n",
       "         5.20165861e-01, 3.33321273e-01, 6.20749414e-01, 6.00496471e-01,\n",
       "         5.16627073e-01, 6.38165355e-01, 2.99660355e-01, 7.64966667e-01,\n",
       "         7.37648070e-01, 2.79377848e-01, 1.51242942e-01, 4.03940678e-01,\n",
       "         4.29086268e-01, 6.59255087e-01, 6.64540708e-01, 1.90751195e-01,\n",
       "         3.04855913e-01, 8.40407372e-01, 3.93412918e-01, 5.52996993e-01,\n",
       "         3.41082066e-01, 2.45992526e-01, 5.30053794e-01, 3.46985132e-01,\n",
       "         4.77574706e-01, 1.97643712e-01, 3.49110544e-01, 5.81672013e-01,\n",
       "         2.02682838e-01, 2.14624807e-01, 4.80398953e-01, 9.91163254e-02,\n",
       "         4.47005659e-01, 6.60344839e-01, 4.06741023e-01, 2.25156888e-01,\n",
       "         9.44051087e-01, 5.44959247e-01, 3.74059021e-01, 5.81685722e-01,\n",
       "         4.24079299e-01, 4.13930535e-01, 3.15461978e-02, 3.09672832e-01,\n",
       "         8.46107602e-01, 2.58868575e-01, 3.82420011e-02, 2.81275302e-01,\n",
       "         4.16486174e-01, 4.34524119e-01, 2.14758869e-02, 7.33246744e-01,\n",
       "         2.12358817e-01, 9.41068351e-01, 8.81627798e-01, 8.52822304e-01,\n",
       "         8.70664418e-01, 9.41318035e-01, 3.30316246e-01, 6.03351653e-01,\n",
       "         5.70957541e-01, 3.46069902e-01, 6.59360528e-01, 2.66396821e-01,\n",
       "         1.09987840e-01, 9.29320574e-01, 3.60650033e-01, 7.88867176e-02,\n",
       "         2.66630501e-01, 7.10323274e-01, 7.98961103e-01, 1.20259047e-01,\n",
       "         4.32245880e-01, 2.41496116e-01, 8.72412026e-02, 8.79345119e-01,\n",
       "         4.56089735e-01, 5.72459817e-01, 4.13699478e-01, 5.05477011e-01,\n",
       "         2.10958049e-01, 1.08784176e-02, 8.35525692e-02, 2.96715856e-01,\n",
       "         2.49611109e-01, 7.60811865e-01, 2.93274075e-01, 3.89734834e-01,\n",
       "         1.53091967e-01, 6.26962543e-01, 3.24459583e-01, 6.11936390e-01,\n",
       "         4.35864985e-01, 5.33058047e-02, 5.38398921e-01, 6.88534737e-01,\n",
       "         7.19090283e-01, 6.50190055e-01, 3.01011056e-01, 9.21314478e-01,\n",
       "         6.07504070e-01, 3.55995297e-01, 1.77583113e-01, 7.48286247e-01,\n",
       "         5.64314067e-01, 6.22171879e-01, 2.22014010e-01, 2.61157118e-02,\n",
       "         3.30961615e-01, 7.96713114e-01, 7.34375596e-01, 7.23120451e-01,\n",
       "         9.12752390e-01, 7.64728963e-01, 2.86751855e-02, 9.50727105e-01,\n",
       "         1.43890247e-01, 6.32326543e-01, 1.08835474e-01, 7.85085917e-01]]],\n",
       "      dtype=float32)"
      ]
     },
     "execution_count": 193,
     "metadata": {},
     "output_type": "execute_result"
    }
   ],
   "source": [
    "pixels_array"
   ]
  },
  {
   "cell_type": "code",
   "execution_count": 200,
   "metadata": {},
   "outputs": [],
   "source": [
    "output = model_pipeline.predict(pixels_array)"
   ]
  },
  {
   "cell_type": "code",
   "execution_count": 201,
   "metadata": {},
   "outputs": [
    {
     "data": {
      "text/plain": [
       "[array([[8.47033328e-03, 1.85639804e-05, 1.22841578e-01, 6.64095866e-03,\n",
       "         7.11195081e-05, 2.41827162e-01, 1.65556831e-03, 1.04224158e-04,\n",
       "         4.21769867e-01, 3.79314488e-04]])]"
      ]
     },
     "execution_count": 201,
     "metadata": {},
     "output_type": "execute_result"
    }
   ],
   "source": [
    "output"
   ]
  },
  {
   "cell_type": "code",
   "execution_count": 202,
   "metadata": {},
   "outputs": [],
   "source": [
    "prediction = toList(np.array(output))\n",
    "prediction_int = [[1 if j == max_i else 0 for j in i] for i in prediction for max_i in [max(i)]]\n",
    "prediction_denc = deEncoder(prediction_int)"
   ]
  },
  {
   "cell_type": "code",
   "execution_count": 204,
   "metadata": {},
   "outputs": [
    {
     "data": {
      "text/plain": [
       "[[0, 0, 0, 0, 0, 0, 0, 0, 1, 0]]"
      ]
     },
     "execution_count": 204,
     "metadata": {},
     "output_type": "execute_result"
    }
   ],
   "source": [
    "prediction_int"
   ]
  }
 ],
 "metadata": {
  "kernelspec": {
   "display_name": "Python 3",
   "language": "python",
   "name": "python3"
  },
  "language_info": {
   "codemirror_mode": {
    "name": "ipython",
    "version": 3
   },
   "file_extension": ".py",
   "mimetype": "text/x-python",
   "name": "python",
   "nbconvert_exporter": "python",
   "pygments_lexer": "ipython3",
   "version": "3.12.9"
  },
  "orig_nbformat": 4
 },
 "nbformat": 4,
 "nbformat_minor": 2
}
